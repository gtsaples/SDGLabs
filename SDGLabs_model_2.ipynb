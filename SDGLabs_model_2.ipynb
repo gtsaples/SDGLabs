{
 "cells": [
  {
   "cell_type": "markdown",
   "id": "b8809543-7ad2-4fdd-bfc1-2b26fb4c2540",
   "metadata": {},
   "source": [
    "# Bass Model of Diffusion - Part 2\n",
    "\n",
    "The model that was presented in part 1 was purely qualitative; feedback loops could be identified and only general insights of the future behavior of the model could be revealed. However, with System Dynamics the qualitative model can be transformed in a quantitative model and there is the opportunity to observe the actual behavior of the system under study.\n",
    "\n",
    "In its most basic form the CLD of part is transformed in the quantitative model of the picture below. \n",
    "\n",
    "![Bass Model](bass2.png)"
   ]
  },
  {
   "cell_type": "markdown",
   "id": "0c77aaee-2591-411f-8eb5-b07ff7e4ceec",
   "metadata": {},
   "source": [
    "The model describes with the help of integral equations. \n",
    "\n",
    "Use the next two cells to observe the behavior of the system and see how potential users become active adopters.\n",
    "Press play once for each cell, and once the button \"Run basic scenario\" appears, press it once to see the results."
   ]
  },
  {
   "cell_type": "code",
   "execution_count": 135,
   "id": "5db99d54-2a5a-4925-a58c-b619256541d9",
   "metadata": {},
   "outputs": [],
   "source": [
    "import pysd\n",
    "import ipywidgets as widgets\n",
    "\n",
    "model = pysd.load('BASS MODEL.py')"
   ]
  },
  {
   "cell_type": "code",
   "execution_count": 136,
   "id": "9ccbf000-258c-4bce-afb7-9c6ee8756639",
   "metadata": {},
   "outputs": [
    {
     "data": {
      "application/vnd.jupyter.widget-view+json": {
       "model_id": "f7265221749e4d718ff433d097c83464",
       "version_major": 2,
       "version_minor": 0
      },
      "text/plain": [
       "Button(description='Run Basic scenario', style=ButtonStyle())"
      ]
     },
     "metadata": {},
     "output_type": "display_data"
    },
    {
     "data": {
      "application/vnd.jupyter.widget-view+json": {
       "model_id": "706da8431e924a74a638c47674297fca",
       "version_major": 2,
       "version_minor": 0
      },
      "text/plain": [
       "Output()"
      ]
     },
     "metadata": {},
     "output_type": "display_data"
    }
   ],
   "source": [
    "\n",
    "from IPython.display import display\n",
    "\n",
    "button = widgets.Button(description=\"Run Basic scenario\")\n",
    "output = widgets.Output()\n",
    "\n",
    "display(button, output)\n",
    "\n",
    "def plot2(b=None,grid=True):\n",
    "    \n",
    "    adopters = model.run()\n",
    "    fig, ax = plt.subplots(1, 1, figsize=(8, 6))\n",
    "    ax.plot(adopters['Adopters A'],label=\"Basic Scenario\")\n",
    "    plt.title(\"Adopters of the service in the basic scenario\")\n",
    "    plt.legend(loc=\"upper left\")\n",
    "    plt.ylabel(\"Number of people\")\n",
    "    plt.xlabel(\"Months\")\n",
    "    ax.grid(grid)\n",
    "    plt.show()\n",
    "    \n",
    "def on_button_clicked(b):\n",
    "    with output:\n",
    "        plot2()\n",
    "\n",
    "button.on_click(on_button_clicked)"
   ]
  },
  {
   "cell_type": "markdown",
   "id": "d6effa85-4793-422d-b966-ceb12c61904b",
   "metadata": {},
   "source": [
    "## Running different scenarios\n",
    "\n",
    "Despite the importance of the model, it does not always represent reality in a faithful manner. People that adopt a service or technology, might leave it after a period of time. Furthermore, the companies and organizations spend money on advertisement campaigns to attract new users and moreover, they try to update their product, thus incentivizing the current adopters to leave their old product and adopt the new one.\n",
    "\n",
    "As a result, Adopters might leave the product/service completely or they might become potential adopters again for the updated product or service. The figure below illustrates the new version of the model.\n",
    "\n",
    "![Updated Bass model](bass3.png)\n",
    "\n",
    "In this updated model, there are variables that the decision maker of the company can control:\n",
    "1. Increase the cost for advertisement (named as cost_ad)\n",
    "2. Increase the cost for updating the product or service, thus providing updated versions constantly on the market (named as cost_upd)\n",
    "\n",
    "Use the sliders in the next cell to see the results of increasing the cost for advertisement and updating the product. But remember a few things:\n",
    "1. Constantly having ads of a product does not guarantee that new users will adopt it. There is a point where the market is saturated with advertisements, meaning that excess spending might have the opposite effects \n",
    "2. Similar for the cost to constantly update the product or service. The users might decide that it is not worth constantly buying an updated version of the same product.\n",
    "\n",
    "To test different scenarios press play once when in the cell. Once the sliders appear, you can change their values and then press the \"Run Interact\" button to see the results. If you want to test different scenarios, just change the value of the sliders and then press the button to see the results"
   ]
  },
  {
   "cell_type": "code",
   "execution_count": 137,
   "id": "5d7790f5-c476-4bd8-95a4-3d99a86d3bb3",
   "metadata": {},
   "outputs": [
    {
     "data": {
      "application/vnd.jupyter.widget-view+json": {
       "model_id": "508e063d92fe4650bde536e5566024ac",
       "version_major": 2,
       "version_minor": 0
      },
      "text/plain": [
       "interactive(children=(FloatSlider(value=0.0, description='cost_ad', max=1.0), FloatSlider(value=0.0, descripti…"
      ]
     },
     "metadata": {},
     "output_type": "display_data"
    }
   ],
   "source": [
    "@widgets.interact_manual(cost_ad = (0., 1.), cost_upd=(0., 1.))\n",
    "\n",
    "def plot(cost_ad=0., cost_upd = 0., grid=True):\n",
    "    adopters2 = model.run(params={'cost spent on advertising': cost_ad,'\"cost variable to update product/service\"': cost_upd})\n",
    "    fig, ax = plt.subplots(1, 1, figsize=(8, 6))\n",
    "    adopters['Adopters A'].plot(label=\"Basic Scenario\")\n",
    "    adopters2['Adopters A'].plot(label=\"Scenario with costs\")\n",
    "    plt.title(\"Adopters of the service in the basic scenario\")\n",
    "    plt.legend(loc=\"upper left\")\n",
    "    plt.ylabel(\"Number of people\")\n",
    "    plt.xlabel(\"Months\")\n",
    "    ax.grid(grid)\n",
    "    plt.show()"
   ]
  },
  {
   "cell_type": "markdown",
   "id": "0d9353f1-57e3-4a9e-b45a-bcaae2756e90",
   "metadata": {},
   "source": [
    "# References\n",
    "\n",
    "García, J. M. (2020). Theory and practical exercises of system dynamics: modeling and simulation with Vensim PLE. Preface John Sterman. Juan Martin Garcia.\n",
    "\n",
    "Pruyt, E. (2013). Small system dynamics models for big issues: Triple jump towards real-world complexity."
   ]
  },
  {
   "cell_type": "code",
   "execution_count": null,
   "id": "2687a318-75ad-437e-9844-239389460eff",
   "metadata": {},
   "outputs": [],
   "source": []
  },
  {
   "cell_type": "code",
   "execution_count": null,
   "id": "f875f935-6500-4a4d-8bd9-ae080b9215b9",
   "metadata": {},
   "outputs": [],
   "source": []
  },
  {
   "cell_type": "code",
   "execution_count": null,
   "id": "10ab5d98-ddfb-4ad1-b7b3-894c72f98f10",
   "metadata": {},
   "outputs": [],
   "source": []
  },
  {
   "cell_type": "code",
   "execution_count": null,
   "id": "59729eca-7281-423b-9a5a-e9cf5c05b409",
   "metadata": {},
   "outputs": [],
   "source": []
  }
 ],
 "metadata": {
  "kernelspec": {
   "display_name": "Python 3 (ipykernel)",
   "language": "python",
   "name": "python3"
  },
  "language_info": {
   "codemirror_mode": {
    "name": "ipython",
    "version": 3
   },
   "file_extension": ".py",
   "mimetype": "text/x-python",
   "name": "python",
   "nbconvert_exporter": "python",
   "pygments_lexer": "ipython3",
   "version": "3.9.16"
  }
 },
 "nbformat": 4,
 "nbformat_minor": 5
}
